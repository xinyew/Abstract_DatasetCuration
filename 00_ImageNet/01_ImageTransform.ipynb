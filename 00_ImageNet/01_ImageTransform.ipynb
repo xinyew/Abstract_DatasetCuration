{
 "cells": [
  {
   "cell_type": "code",
   "execution_count": 1,
   "id": "6c56d297",
   "metadata": {},
   "outputs": [],
   "source": [
    "from PIL import Image, ImageOps\n",
    "import os, sys\n",
    "import platform"
   ]
  },
  {
   "cell_type": "code",
   "execution_count": 2,
   "id": "26df6312",
   "metadata": {},
   "outputs": [
    {
     "data": {
      "text/plain": [
       "['cat',\n",
       " '.DS_Store',\n",
       " 'turtle',\n",
       " 'dog',\n",
       " 'person',\n",
       " 'giant panda',\n",
       " 'bird',\n",
       " 'baboon',\n",
       " 'monkey',\n",
       " 'frog',\n",
       " 'deer']"
      ]
     },
     "execution_count": 2,
     "metadata": {},
     "output_type": "execute_result"
    }
   ],
   "source": [
    "if platform.system() == 'Windows':\n",
    "    path = os.getcwd() + r\"\\data\\imagenet_images\\ \"[:-1]\n",
    "    classes = os.listdir(path)\n",
    "    resized_path = os.getcwd() + r\"\\data\\resized\\ \"[:-1]\n",
    "else:\n",
    "    path = os.getcwd() + r\"/data/imagenet_images/\"\n",
    "    classes = os.listdir(path)\n",
    "    resized_path = os.getcwd() + r\"/data/resized/\"    \n",
    "\n",
    "if not os.path.exists(resized_path):\n",
    "    os.mkdir(resized_path)\n",
    "    \n",
    "classes"
   ]
  },
  {
   "cell_type": "code",
   "execution_count": 87,
   "id": "eda1dd2e",
   "metadata": {},
   "outputs": [],
   "source": [
    "def imageTransform():\n",
    "    for each in classes:\n",
    "        if platform.system() == 'Windows':\n",
    "            classPath = path + each + r\"\\ \"[:-1]\n",
    "            resizedClassPath = resized_path + each + r\"\\ \"[:-1]\n",
    "        else:\n",
    "            classPath = path + each + r\"/\"\n",
    "            resizedClassPath = resized_path + each + r\"/\"\n",
    "        if not os.path.exists(resizedClassPath):\n",
    "            os.mkdir(resizedClassPath)\n",
    "        dirs = os.listdir(classPath)\n",
    "        for item in dirs:\n",
    "            if os.path.isfile(classPath+item):\n",
    "                im = Image.open(classPath+item)\n",
    "                # here using antialias in PILLOW. ref: https://github.com/python-pillow/Pillow/issues/6200\n",
    "                imResize = im.resize((160,120), Image.ANTIALIAS)\n",
    "                # default PILLOW grascale converter\n",
    "                imResize = ImageOps.grayscale(imResize)\n",
    "                imResize.save(resizedClassPath+item, 'JPEG', quality=90)"
   ]
  },
  {
   "cell_type": "code",
   "execution_count": 88,
   "id": "94e40e29",
   "metadata": {},
   "outputs": [],
   "source": [
    "imageTransform()"
   ]
  },
  {
   "cell_type": "code",
   "execution_count": null,
   "id": "7d437ce1",
   "metadata": {},
   "outputs": [],
   "source": []
  }
 ],
 "metadata": {
  "kernelspec": {
   "display_name": "Python 3 (ipykernel)",
   "language": "python",
   "name": "python3"
  },
  "language_info": {
   "codemirror_mode": {
    "name": "ipython",
    "version": 3
   },
   "file_extension": ".py",
   "mimetype": "text/x-python",
   "name": "python",
   "nbconvert_exporter": "python",
   "pygments_lexer": "ipython3",
   "version": "3.9.16"
  }
 },
 "nbformat": 4,
 "nbformat_minor": 5
}
