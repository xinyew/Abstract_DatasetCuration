{
 "cells": [
  {
   "cell_type": "code",
   "execution_count": 107,
   "id": "ca908286",
   "metadata": {},
   "outputs": [],
   "source": [
    "'''\n",
    "DESCRIPTION: \n",
    "A program to concurrently download subsets from ImageNet using ImageNet API.\n",
    "To run the script correctly, please modify the arguments in this cell then run all cells.\n",
    "\n",
    "ARGUMENT LIST:\n",
    "scrape_only_flickr:        Set to True if only want images from Flickr.\n",
    "number_of_classes:         The number of classes to be randomly picking for downloading.\n",
    "images_per_class:          How many images to be downloaded for each class.\n",
    "data_root:                 The dir for storing the downloaded images.\n",
    "use_class_list:            Whether to use customized class list instead of random picking.\n",
    "class_list:                A list of class to be downloaded. Please put the labels of the \n",
    "                           classes (e.g. n12345678...) instead of the class names (e.g. \n",
    "                           person, dog...) in type str in the list. For the full list of \n",
    "                           label-name pairs, please refer to the ./imagenet_class_info.json\n",
    "                           file in this directoy. If you want to get the keywords of each\n",
    "                           class, please refer to the ./words.txt file in the directoy.\n",
    "multiprocessing_workers:   How many threads to process the request simultaneousy.\n",
    "'''\n",
    "source_dir = 'data1'\n",
    "resampling_method = 'BICUBIC'\n",
    "target_dir = 'resampe_' + resampling_method.lower()\n",
    "use_subdir = False\n",
    "\n"
   ]
  },
  {
   "cell_type": "code",
   "execution_count": 112,
   "id": "6c56d297",
   "metadata": {},
   "outputs": [],
   "source": [
    "from PIL import Image, ImageOps\n",
    "from PIL.Image import Resampling \n",
    "import os, sys\n",
    "import platform"
   ]
  },
  {
   "cell_type": "code",
   "execution_count": 109,
   "id": "26df6312",
   "metadata": {},
   "outputs": [
    {
     "data": {
      "text/plain": [
       "['person']"
      ]
     },
     "execution_count": 109,
     "metadata": {},
     "output_type": "execute_result"
    }
   ],
   "source": [
    "if resampling_method == 'NEAREST':\n",
    "    method = Resampling.NEAREST\n",
    "elif resampling_method == 'BOX':\n",
    "    method = Resampling.BOX\n",
    "elif resampling_method == 'BILINEAR':\n",
    "    method = Resampling.BILINEAR\n",
    "elif resampling_method == 'HAMMING':\n",
    "    method = Resampling.HAMMING\n",
    "elif resampling_method == 'BICUBIC':\n",
    "    method = Resampling.BICUBIC\n",
    "elif resampling_method == 'LANCZOS':\n",
    "    method = Resampling.LANCZOS\n",
    "else:\n",
    "    raise Exception('Invalid resampling method')\n",
    "    \n",
    "path = os.path.join(os.getcwd(), source_dir, \"imagenet_images\")\n",
    "classes = os.listdir(path)\n",
    "resized_path = os.path.join(os.getcwd(), source_dir, target_dir)\n",
    "\n",
    "if not os.path.exists(resized_path):\n",
    "    os.mkdir(resized_path)\n",
    "\n",
    "i = 0\n",
    "while i < len(classes):\n",
    "    if not os.path.isdir(classes[i]):\n",
    "        classes.pop(i)\n",
    "        i+=1\n",
    "\n",
    "classes"
   ]
  },
  {
   "cell_type": "code",
   "execution_count": 110,
   "id": "eda1dd2e",
   "metadata": {},
   "outputs": [],
   "source": [
    "def imageTransform():\n",
    "    for each in classes:\n",
    "        classPath = os.path.join(path, each)\n",
    "        resizedClassPath = os.path.join(resized_path, each)\n",
    "        if not os.path.exists(resizedClassPath):\n",
    "            os.mkdir(resizedClassPath)\n",
    "        dirs = os.listdir(classPath)\n",
    "        for item in dirs:\n",
    "            if os.path.isfile(os.path.join(classPath, item)):\n",
    "                try:\n",
    "                    im = Image.open(os.path.join(classPath, item))\n",
    "                    # here using antialias in PILLOW. ref: https://github.com/python-pillow/Pillow/issues/6200\n",
    "                    imResize = im.resize((160,120), resample=method)\n",
    "                    # default PILLOW grascale converter\n",
    "                    imResize = ImageOps.grayscale(imResize)\n",
    "                    imResize.save(os.path.join(resizedClassPath, item), 'JPEG', quality=90)\n",
    "                except:\n",
    "                    print(item)"
   ]
  },
  {
   "cell_type": "code",
   "execution_count": 111,
   "id": "94e40e29",
   "metadata": {},
   "outputs": [
    {
     "name": "stdout",
     "output_type": "stream",
     "text": [
      ".DS_Store\n"
     ]
    }
   ],
   "source": [
    "imageTransform()"
   ]
  },
  {
   "cell_type": "code",
   "execution_count": null,
   "id": "7d437ce1",
   "metadata": {},
   "outputs": [],
   "source": [
    "24226660"
   ]
  }
 ],
 "metadata": {
  "kernelspec": {
   "display_name": "Python 3 (ipykernel)",
   "language": "python",
   "name": "python3"
  },
  "language_info": {
   "codemirror_mode": {
    "name": "ipython",
    "version": 3
   },
   "file_extension": ".py",
   "mimetype": "text/x-python",
   "name": "python",
   "nbconvert_exporter": "python",
   "pygments_lexer": "ipython3",
   "version": "3.9.16"
  }
 },
 "nbformat": 4,
 "nbformat_minor": 5
}
